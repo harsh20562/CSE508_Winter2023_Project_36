{
  "nbformat": 4,
  "nbformat_minor": 0,
  "metadata": {
    "colab": {
      "provenance": []
    },
    "kernelspec": {
      "name": "python3",
      "display_name": "Python 3"
    },
    "language_info": {
      "name": "python"
    }
  },
  "cells": [
    {
      "cell_type": "code",
      "execution_count": null,
      "metadata": {
        "id": "XSXwFW1LzyXu"
      },
      "outputs": [],
      "source": [
        "\n"
      ]
    },
    {
      "cell_type": "code",
      "source": [
        "from google.colab import drive\n",
        "drive.mount('/content/drive')"
      ],
      "metadata": {
        "colab": {
          "base_uri": "https://localhost:8080/"
        },
        "id": "6z5a0Hd60ahB",
        "outputId": "5c0fcb91-a0fa-40a6-9806-0ca94dbf0458"
      },
      "execution_count": 1,
      "outputs": [
        {
          "output_type": "stream",
          "name": "stdout",
          "text": [
            "Mounted at /content/drive\n"
          ]
        }
      ]
    },
    {
      "cell_type": "code",
      "source": [
        "# The Necessary Libraries that are used:\n",
        "import pandas as pd\n",
        "from sklearn.feature_extraction.text import CountVectorizer, TfidfVectorizer\n",
        "from sklearn import svm\n",
        "from sklearn.metrics import *\n",
        "\n",
        "\n",
        "# Loading the datasets\n",
        "train_df = pd.read_csv('/content/drive/MyDrive/IR PROJECT/liar_dataset/train.tsv', sep='\\t')\n",
        "test_df = pd.read_csv('/content/drive/MyDrive/IR PROJECT/liar_dataset/test.tsv', sep='\\t')\n",
        "valid_df = pd.read_csv('/content/drive/MyDrive/IR PROJECT/liar_dataset/valid.tsv', sep='\\t')\n",
        "\n",
        "# The first step is to Preprocess the data \n",
        "vectorizer = TfidfVectorizer()\n",
        "X_train = vectorizer.fit_transform(train_df.iloc[:,2])\n",
        "X_valid = vectorizer.transform(valid_df.iloc[:,2])\n",
        "X_test = vectorizer.transform(test_df.iloc[:,2])\n",
        "y_train = train_df.iloc[:,1]\n",
        "y_valid = valid_df.iloc[:,1]\n",
        "y_test = test_df.iloc[:,1]\n",
        "\n",
        "# Training the SVM model\n",
        "clf = svm.SVC(kernel='linear', C=1.0)\n",
        "clf.fit(X_train, y_train)\n",
        "\n",
        "# Evaluating the model on validation dataset\n",
        "y_pred_valid = clf.predict(X_valid)\n",
        "valid_accuracy = accuracy_score(y_valid, y_pred_valid)\n",
        "print(\"Validation Accuracy:\", valid_accuracy)\n",
        "\n",
        "# Testing the model on test dataset\n",
        "y_pred_test = clf.predict(X_test)\n",
        "test_accuracy = accuracy_score(y_test, y_pred_test)\n",
        "print(\"Test Accuracy:\", test_accuracy)\n",
        "\n",
        "print(\"F1 score(in percentage)\")\n",
        "print(f1_score(y_test,y_pred_test,average='micro')*100)"
      ],
      "metadata": {
        "colab": {
          "base_uri": "https://localhost:8080/"
        },
        "id": "1O648myK0WZD",
        "outputId": "19dbddf7-6e4c-48c4-802b-0991f73631a7"
      },
      "execution_count": 4,
      "outputs": [
        {
          "output_type": "stream",
          "name": "stdout",
          "text": [
            "Validation Accuracy: 0.24707716289945442\n",
            "Test Accuracy: 0.2424960505529226\n",
            "F1 score(in percentage)\n",
            "24.24960505529226\n"
          ]
        }
      ]
    }
  ]
}