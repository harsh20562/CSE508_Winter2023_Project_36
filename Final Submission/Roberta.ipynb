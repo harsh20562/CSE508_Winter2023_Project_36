{
  "nbformat": 4,
  "nbformat_minor": 0,
  "metadata": {
    "colab": {
      "provenance": []
    },
    "kernelspec": {
      "name": "python3",
      "display_name": "Python 3"
    },
    "language_info": {
      "name": "python"
    },
    "accelerator": "GPU",
    "gpuClass": "standard"
  },
  "cells": [
    {
      "cell_type": "code",
      "execution_count": null,
      "metadata": {
        "colab": {
          "base_uri": "https://localhost:8080/"
        },
        "id": "5W0eKGgAupeC",
        "outputId": "14ece014-4493-42cb-f042-7c6dd223b334"
      },
      "outputs": [
        {
          "output_type": "stream",
          "name": "stdout",
          "text": [
            "Drive already mounted at /content/drive; to attempt to forcibly remount, call drive.mount(\"/content/drive\", force_remount=True).\n"
          ]
        }
      ],
      "source": [
        "from google.colab import drive\n",
        "drive.mount('/content/drive')"
      ]
    },
    {
      "cell_type": "code",
      "source": [
        "!pip install transformers\n",
        "import pandas as pd\n",
        "import numpy as np\n",
        "import torch\n",
        "from torch.utils.data import DataLoader, TensorDataset, RandomSampler, SequentialSampler\n",
        "from transformers import BertTokenizer, BertForSequenceClassification, AdamW\n",
        "from transformers import RobertaTokenizer, RobertaForSequenceClassification\n",
        "from transformers.optimization import get_linear_schedule_with_warmup\n",
        "from tqdm import tqdm\n",
        "from sklearn.metrics import f1_score"
      ],
      "metadata": {
        "colab": {
          "base_uri": "https://localhost:8080/"
        },
        "id": "CQRbcx0iurFv",
        "outputId": "574ae474-22f2-414a-d7f2-382e5cb4f956"
      },
      "execution_count": null,
      "outputs": [
        {
          "output_type": "stream",
          "name": "stdout",
          "text": [
            "Looking in indexes: https://pypi.org/simple, https://us-python.pkg.dev/colab-wheels/public/simple/\n",
            "Requirement already satisfied: transformers in /usr/local/lib/python3.9/dist-packages (4.28.1)\n",
            "Requirement already satisfied: numpy>=1.17 in /usr/local/lib/python3.9/dist-packages (from transformers) (1.22.4)\n",
            "Requirement already satisfied: regex!=2019.12.17 in /usr/local/lib/python3.9/dist-packages (from transformers) (2022.10.31)\n",
            "Requirement already satisfied: pyyaml>=5.1 in /usr/local/lib/python3.9/dist-packages (from transformers) (6.0)\n",
            "Requirement already satisfied: huggingface-hub<1.0,>=0.11.0 in /usr/local/lib/python3.9/dist-packages (from transformers) (0.13.4)\n",
            "Requirement already satisfied: packaging>=20.0 in /usr/local/lib/python3.9/dist-packages (from transformers) (23.1)\n",
            "Requirement already satisfied: tqdm>=4.27 in /usr/local/lib/python3.9/dist-packages (from transformers) (4.65.0)\n",
            "Requirement already satisfied: filelock in /usr/local/lib/python3.9/dist-packages (from transformers) (3.11.0)\n",
            "Requirement already satisfied: requests in /usr/local/lib/python3.9/dist-packages (from transformers) (2.27.1)\n",
            "Requirement already satisfied: tokenizers!=0.11.3,<0.14,>=0.11.1 in /usr/local/lib/python3.9/dist-packages (from transformers) (0.13.3)\n",
            "Requirement already satisfied: typing-extensions>=3.7.4.3 in /usr/local/lib/python3.9/dist-packages (from huggingface-hub<1.0,>=0.11.0->transformers) (4.5.0)\n",
            "Requirement already satisfied: urllib3<1.27,>=1.21.1 in /usr/local/lib/python3.9/dist-packages (from requests->transformers) (1.26.15)\n",
            "Requirement already satisfied: certifi>=2017.4.17 in /usr/local/lib/python3.9/dist-packages (from requests->transformers) (2022.12.7)\n",
            "Requirement already satisfied: charset-normalizer~=2.0.0 in /usr/local/lib/python3.9/dist-packages (from requests->transformers) (2.0.12)\n",
            "Requirement already satisfied: idna<4,>=2.5 in /usr/local/lib/python3.9/dist-packages (from requests->transformers) (3.4)\n"
          ]
        }
      ]
    },
    {
      "cell_type": "code",
      "source": [
        "df_train = pd.read_csv(\"/content/drive/MyDrive/liar_dataset/train.tsv\", sep=\"\\t\", header=None)\n",
        "df_train.columns = ['json_ID', 'label','statement','subject','speaker','speaker_job','state_info','party_affiliation','barely_true_counts','false_counts','half_true_counts','mostly_true_counts','pants_on_fire_counts','context']\n",
        "\n",
        "df_test = pd.read_csv(\"/content/drive/MyDrive/liar_dataset/test.tsv\", sep=\"\\t\", header=None)\n",
        "df_test.columns = ['json_ID', 'label','statement','subject','speaker','speaker_job','state_info','party_affiliation','barely_true_counts','false_counts','half_true_counts','mostly_true_counts','pants_on_fire_counts','context']\n",
        "\n",
        "df_validate = pd.read_csv(\"/content/drive/MyDrive/liar_dataset/valid.tsv\", sep=\"\\t\", header=None)\n",
        "df_validate.columns = ['json_ID', 'label','statement','subject','speaker','speaker_job','state_info','party_affiliation','barely_true_counts','false_counts','half_true_counts','mostly_true_counts','pants_on_fire_counts','context']\n",
        "\n",
        "df_train['label'] = df_train['label'].map({'pants-fire': 0, 'false': 1, 'barely-true': 2, 'half-true': 3, 'mostly-true': 4, 'true': 5})\n",
        "df_test['label'] = df_test['label'].map({'pants-fire': 0, 'false': 1, 'barely-true': 2, 'half-true': 3, 'mostly-true': 4, 'true': 5})\n",
        "df_validate['label'] = df_validate['label'].map({'pants-fire': 0, 'false': 1, 'barely-true': 2, 'half-true': 3, 'mostly-true': 4, 'true': 5})"
      ],
      "metadata": {
        "id": "m_dhh2Afusmt"
      },
      "execution_count": null,
      "outputs": []
    },
    {
      "cell_type": "code",
      "source": [
        "#tokenizer = BertTokenizer.from_pretrained('bert-base-uncased')\n",
        "tokenizer = RobertaTokenizer.from_pretrained('roberta-base')\n",
        "def preprocess_text(input_text):\n",
        "    input_ids = []\n",
        "    attention_masks = []\n",
        "    token_type_ids = []\n",
        "    \n",
        "    for text in input_text:\n",
        "        encoded_dict = tokenizer.encode_plus(\n",
        "                            text,\n",
        "                            add_special_tokens=True,\n",
        "                            max_length=128,\n",
        "                            padding='max_length',\n",
        "                            truncation=True,\n",
        "                            return_attention_mask=True,\n",
        "                            return_token_type_ids=True,\n",
        "                            return_tensors='np'\n",
        "                       )\n",
        "        input_ids.append(encoded_dict['input_ids'])\n",
        "        attention_masks.append(encoded_dict['attention_mask'])\n",
        "        token_type_ids.append(encoded_dict['token_type_ids'])\n",
        "\n",
        "    return {'input_ids': np.array(input_ids),\n",
        "            'attention_mask': np.array(attention_masks),\n",
        "            'token_type_ids': np.array(token_type_ids)}"
      ],
      "metadata": {
        "id": "hz-NqZoTut-p"
      },
      "execution_count": null,
      "outputs": []
    },
    {
      "cell_type": "code",
      "source": [
        "X_train = preprocess_text(df_train['statement'].values)\n",
        "y_train = df_train['label'].values\n",
        "\n",
        "X_test = preprocess_text(df_test['statement'].values)\n",
        "y_test = df_test['label'].values\n",
        "\n",
        "X_validate = preprocess_text(df_validate['statement'].values)\n",
        "y_validate = df_validate['label'].values"
      ],
      "metadata": {
        "id": "Huu9hc27uvTo"
      },
      "execution_count": null,
      "outputs": []
    },
    {
      "cell_type": "code",
      "source": [
        "train_inputs = torch.tensor(X_train['input_ids'], dtype=torch.long)\n",
        "train_labels = torch.tensor(y_train, dtype=torch.long)\n",
        "train_masks = torch.tensor(X_train['attention_mask'], dtype=torch.long)\n",
        "train_token_types = torch.tensor(X_train['token_type_ids'], dtype=torch.long)\n",
        "\n",
        "test_inputs = torch.tensor(X_test['input_ids'], dtype=torch.long)\n",
        "test_labels = torch.tensor(y_test, dtype=torch.long)\n",
        "test_masks = torch.tensor(X_test['attention_mask'], dtype=torch.long)\n",
        "test_token_types = torch.tensor(X_test['token_type_ids'], dtype=torch.long)\n",
        "test_y = torch.tensor(test_labels.tolist())\n",
        "\n",
        "validate_inputs = torch.tensor(X_validate['input_ids'], dtype=torch.long)\n",
        "validate_labels = torch.tensor(y_validate, dtype=torch.long)\n",
        "validate_masks = torch.tensor(X_validate['attention_mask'], dtype=torch.long)\n",
        "validate_token_types = torch.tensor(X_validate['token_type_ids'], dtype=torch.long)\n",
        "val_y = torch.tensor(validate_labels.tolist())"
      ],
      "metadata": {
        "id": "HWSSHpVVuwm_"
      },
      "execution_count": null,
      "outputs": []
    },
    {
      "cell_type": "code",
      "source": [
        "batch_size = 32\n",
        "\n",
        "train_data = TensorDataset(train_inputs, train_masks, train_token_types, train_labels)\n",
        "train_dataloader = DataLoader(train_data, sampler=RandomSampler(train_data), batch_size=batch_size)\n",
        "\n",
        "val_data = TensorDataset(validate_inputs, validate_masks, validate_token_types, validate_labels)\n",
        "val_dataloader = DataLoader(val_data, sampler=SequentialSampler(val_data), batch_size=batch_size)\n",
        "\n",
        "test_data = TensorDataset(test_inputs, test_masks, test_token_types, test_labels)\n",
        "test_dataloader = DataLoader(test_data, sampler=SequentialSampler(test_data), batch_size=batch_size)\n",
        "\n",
        "device = torch.device('cuda' if torch.cuda.is_available() else 'cpu')\n",
        "#model = BertForSequenceClassification.from_pretrained('bert-base-uncased', num_labels=6)\n",
        "\n",
        "model = RobertaForSequenceClassification.from_pretrained('roberta-base', num_labels=6)\n",
        "model.to(device)\n",
        "\n",
        "epochs = 3\n",
        "learning_rate = 2e-5\n",
        "\n",
        "# Set optimizer and scheduler\n",
        "optimizer = torch.optim.AdamW(model.parameters(), lr=learning_rate, eps=1e-8)\n",
        "total_steps = len(train_dataloader) * epochs\n",
        "scheduler = get_linear_schedule_with_warmup(optimizer, num_warmup_steps=0, num_training_steps=total_steps)"
      ],
      "metadata": {
        "colab": {
          "base_uri": "https://localhost:8080/"
        },
        "id": "haH-guY0ux5x",
        "outputId": "8f8f8454-0547-41d7-91f0-cf841c46debc"
      },
      "execution_count": null,
      "outputs": [
        {
          "output_type": "stream",
          "name": "stderr",
          "text": [
            "Some weights of the model checkpoint at roberta-base were not used when initializing RobertaForSequenceClassification: ['roberta.pooler.dense.weight', 'lm_head.decoder.weight', 'lm_head.dense.bias', 'roberta.pooler.dense.bias', 'lm_head.layer_norm.weight', 'lm_head.layer_norm.bias', 'lm_head.dense.weight', 'lm_head.bias']\n",
            "- This IS expected if you are initializing RobertaForSequenceClassification from the checkpoint of a model trained on another task or with another architecture (e.g. initializing a BertForSequenceClassification model from a BertForPreTraining model).\n",
            "- This IS NOT expected if you are initializing RobertaForSequenceClassification from the checkpoint of a model that you expect to be exactly identical (initializing a BertForSequenceClassification model from a BertForSequenceClassification model).\n",
            "Some weights of RobertaForSequenceClassification were not initialized from the model checkpoint at roberta-base and are newly initialized: ['classifier.out_proj.weight', 'classifier.out_proj.bias', 'classifier.dense.weight', 'classifier.dense.bias']\n",
            "You should probably TRAIN this model on a down-stream task to be able to use it for predictions and inference.\n"
          ]
        }
      ]
    },
    {
      "cell_type": "code",
      "source": [
        "def train(model, dataloader, optimizer, scheduler, device):\n",
        "  model.train()\n",
        "  total_loss = 0\n",
        "\n",
        "  for batch in tqdm(dataloader, desc='Training'):\n",
        "      input_ids = batch[0].to(device)\n",
        "      attention_mask = batch[1].to(device)\n",
        "      token_type_ids = batch[2].to(device)\n",
        "      labels = batch[3].to(device)\n",
        "\n",
        "      model.zero_grad()\n",
        "      input_ids = input_ids.squeeze(1)\n",
        "      attention_mask = attention_mask.squeeze(1)\n",
        "      token_type_ids = token_type_ids.squeeze(1)\n",
        "      \n",
        "      outputs = model(input_ids, attention_mask=attention_mask, token_type_ids = token_type_ids, labels=labels)\n",
        "      loss = outputs.loss\n",
        "      logits = outputs.logits\n",
        "\n",
        "      total_loss += loss.item()\n",
        "\n",
        "      loss.backward()\n",
        "\n",
        "      torch.nn.utils.clip_grad_norm_(model.parameters(), 1.0)\n",
        "\n",
        "      optimizer.step()\n",
        "      scheduler.step()\n",
        "\n",
        "  avg_loss = total_loss / len(dataloader)\n",
        "\n",
        "  return avg_loss"
      ],
      "metadata": {
        "id": "wMZ8Hvkkmlyp"
      },
      "execution_count": null,
      "outputs": []
    },
    {
      "cell_type": "code",
      "source": [
        "def evaluate(model, dataloader, device):\n",
        "  model.eval()\n",
        "  \n",
        "  all_preds = []\n",
        "  total_loss = 0\n",
        "  total_correct = 0\n",
        "  total_samples = 0\n",
        "\n",
        "  with torch.no_grad():\n",
        "      for batch in tqdm(dataloader, desc='Evaluation'):\n",
        "          input_ids = batch[0].to(device)\n",
        "          attention_mask = batch[1].to(device)\n",
        "          token_type_ids = batch[2].to(device)\n",
        "          labels = batch[3].to(device)\n",
        "\n",
        "          model.zero_grad()\n",
        "          input_ids = input_ids.squeeze(1)\n",
        "          attention_mask = attention_mask.squeeze(1)\n",
        "          token_type_ids = token_type_ids.squeeze(1)\n",
        "      \n",
        "          outputs = model(input_ids, attention_mask=attention_mask, token_type_ids = token_type_ids, labels=labels)\n",
        "          loss = outputs.loss\n",
        "          logits = outputs.logits\n",
        "\n",
        "          total_loss += loss.item()\n",
        "          preds = torch.argmax(logits, dim=1)\n",
        "\n",
        "          all_preds.extend(preds.cpu().numpy())\n",
        "          total_correct += torch.sum(preds == labels).item()\n",
        "          total_samples += labels.shape[0]\n",
        "  \n",
        "  avg_loss = total_loss / len(dataloader)\n",
        "  accuracy = total_correct / total_samples\n",
        "\n",
        "  return avg_loss, all_preds, accuracy"
      ],
      "metadata": {
        "id": "CkkPKN-emrHA"
      },
      "execution_count": null,
      "outputs": []
    },
    {
      "cell_type": "code",
      "source": [
        "train_losses = []\n",
        "val_losses = []\n",
        "\n",
        "for epoch in range(epochs):\n",
        "    print(f'Epoch {epoch+1}/{epochs}:')\n",
        "    train_loss = train(model, train_dataloader, optimizer, scheduler, device)\n",
        "    val_loss, val_f1, acc = evaluate(model, val_dataloader, device)\n",
        "    val_f1_score = f1_score(val_y, val_f1, average = 'macro')\n",
        "\n",
        "    print(f'Train Loss: {train_loss:.4f}')\n",
        "    print(f'Val Accuracy: {acc:.4f}')\n",
        "    print(f'Val Loss: {val_loss:.4f}, Val Macro F1 Score: {val_f1_score:.4f}')\n",
        "    \n",
        "    train_losses.append(train_loss)\n",
        "    val_losses.append(val_loss)\n",
        "\n",
        "test_loss, test_f1, test_acc = evaluate(model, test_dataloader, device)\n",
        "test_f1_score = f1_score(test_y, test_f1, average = 'macro')\n",
        "print()\n",
        "print(f'Test Accuracy: {test_acc:.4f}')\n",
        "print(f'Test Loss: {test_loss:.4f}, Test Macro F1 Score: {test_f1_score:.4f}')"
      ],
      "metadata": {
        "colab": {
          "base_uri": "https://localhost:8080/"
        },
        "id": "XEBIl8FXnXL1",
        "outputId": "0873d6e0-028f-4d5a-c880-933a2c1b7082"
      },
      "execution_count": null,
      "outputs": [
        {
          "output_type": "stream",
          "name": "stdout",
          "text": [
            "Epoch 1/3:\n"
          ]
        },
        {
          "output_type": "stream",
          "name": "stderr",
          "text": [
            "Training: 100%|██████████| 320/320 [03:27<00:00,  1.54it/s]\n",
            "Evaluation: 100%|██████████| 41/41 [00:08<00:00,  5.08it/s]\n"
          ]
        },
        {
          "output_type": "stream",
          "name": "stdout",
          "text": [
            "Train Loss: 1.7352\n",
            "Val Accuracy: 0.2586\n",
            "Val Loss: 1.6844, Val Macro F1 Score: 0.1491\n",
            "Epoch 2/3:\n"
          ]
        },
        {
          "output_type": "stream",
          "name": "stderr",
          "text": [
            "Training: 100%|██████████| 320/320 [03:26<00:00,  1.55it/s]\n",
            "Evaluation: 100%|██████████| 41/41 [00:08<00:00,  5.07it/s]\n"
          ]
        },
        {
          "output_type": "stream",
          "name": "stdout",
          "text": [
            "Train Loss: 1.6583\n",
            "Val Accuracy: 0.2555\n",
            "Val Loss: 1.6682, Val Macro F1 Score: 0.2504\n",
            "Epoch 3/3:\n"
          ]
        },
        {
          "output_type": "stream",
          "name": "stderr",
          "text": [
            "Training: 100%|██████████| 320/320 [03:27<00:00,  1.54it/s]\n",
            "Evaluation: 100%|██████████| 41/41 [00:08<00:00,  5.08it/s]\n"
          ]
        },
        {
          "output_type": "stream",
          "name": "stdout",
          "text": [
            "Train Loss: 1.5591\n",
            "Val Accuracy: 0.2648\n",
            "Val Loss: 1.6807, Val Macro F1 Score: 0.2601\n"
          ]
        },
        {
          "output_type": "stream",
          "name": "stderr",
          "text": [
            "Evaluation: 100%|██████████| 40/40 [00:07<00:00,  5.04it/s]"
          ]
        },
        {
          "output_type": "stream",
          "name": "stdout",
          "text": [
            "\n",
            "Test Accuracy: 0.2731\n",
            "Test Loss: 1.6814, Test Macro F1 Score: 0.2732\n"
          ]
        },
        {
          "output_type": "stream",
          "name": "stderr",
          "text": [
            "\n"
          ]
        }
      ]
    },
    {
      "cell_type": "code",
      "source": [
        "import matplotlib.pyplot as plt\n",
        "\n",
        "# Plot losses\n",
        "plt.plot(train_losses, label='Train')\n",
        "plt.plot(val_losses, label='Validation')\n",
        "plt.xlabel('Epoch')\n",
        "plt.ylabel('Loss')\n",
        "plt.legend()\n",
        "plt.show()"
      ],
      "metadata": {
        "id": "HQ0ktVEszjid"
      },
      "execution_count": null,
      "outputs": []
    }
  ]
}